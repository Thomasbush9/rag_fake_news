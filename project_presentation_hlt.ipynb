{
 "cells": [
  {
   "cell_type": "code",
   "execution_count": 1,
   "id": "d2bc2e73",
   "metadata": {},
   "outputs": [],
   "source": [
    "import pandas as pd"
   ]
  },
  {
   "cell_type": "code",
   "execution_count": 2,
   "id": "5955a699",
   "metadata": {},
   "outputs": [],
   "source": [
    "results = pd.read_csv('query_classification_results.csv')"
   ]
  },
  {
   "cell_type": "code",
   "execution_count": 3,
   "id": "5bf9d466",
   "metadata": {},
   "outputs": [
    {
     "data": {
      "text/html": [
       "<div>\n",
       "<style scoped>\n",
       "    .dataframe tbody tr th:only-of-type {\n",
       "        vertical-align: middle;\n",
       "    }\n",
       "\n",
       "    .dataframe tbody tr th {\n",
       "        vertical-align: top;\n",
       "    }\n",
       "\n",
       "    .dataframe thead th {\n",
       "        text-align: right;\n",
       "    }\n",
       "</style>\n",
       "<table border=\"1\" class=\"dataframe\">\n",
       "  <thead>\n",
       "    <tr style=\"text-align: right;\">\n",
       "      <th></th>\n",
       "      <th>query</th>\n",
       "      <th>class</th>\n",
       "      <th>justification</th>\n",
       "    </tr>\n",
       "  </thead>\n",
       "  <tbody>\n",
       "    <tr>\n",
       "      <th>0</th>\n",
       "      <td>scott-surovell claim: When did the decline of ...</td>\n",
       "      <td>I would classify this query as \"half true\".</td>\n",
       "      <td>Justification: The query states that the decli...</td>\n",
       "    </tr>\n",
       "    <tr>\n",
       "      <th>1</th>\n",
       "      <td>barack-obama claim: Hillary Clinton agrees wit...</td>\n",
       "      <td>Class: True</td>\n",
       "      <td>Justification: The query states that Hillary C...</td>\n",
       "    </tr>\n",
       "    <tr>\n",
       "      <th>2</th>\n",
       "      <td>dwayne-bohac claim: Says the Annies List polit...</td>\n",
       "      <td>I would classify this query as \"FALSE\".</td>\n",
       "      <td>Justification: The query states that Annie's L...</td>\n",
       "    </tr>\n",
       "    <tr>\n",
       "      <th>3</th>\n",
       "      <td>charlie-crist claim: The economic turnaround s...</td>\n",
       "      <td>I would classify this query as \"Half True\".</td>\n",
       "      <td>Justification:\\n\\nThe query states that Charli...</td>\n",
       "    </tr>\n",
       "    <tr>\n",
       "      <th>4</th>\n",
       "      <td>blog-posting claim: Health care reform legisla...</td>\n",
       "      <td>I would classify this query as \"FALSE\".</td>\n",
       "      <td>Justification: According to the context, the n...</td>\n",
       "    </tr>\n",
       "  </tbody>\n",
       "</table>\n",
       "</div>"
      ],
      "text/plain": [
       "                                               query  \\\n",
       "0  scott-surovell claim: When did the decline of ...   \n",
       "1  barack-obama claim: Hillary Clinton agrees wit...   \n",
       "2  dwayne-bohac claim: Says the Annies List polit...   \n",
       "3  charlie-crist claim: The economic turnaround s...   \n",
       "4  blog-posting claim: Health care reform legisla...   \n",
       "\n",
       "                                         class  \\\n",
       "0  I would classify this query as \"half true\".   \n",
       "1                                  Class: True   \n",
       "2      I would classify this query as \"FALSE\".   \n",
       "3  I would classify this query as \"Half True\".   \n",
       "4      I would classify this query as \"FALSE\".   \n",
       "\n",
       "                                       justification  \n",
       "0  Justification: The query states that the decli...  \n",
       "1  Justification: The query states that Hillary C...  \n",
       "2  Justification: The query states that Annie's L...  \n",
       "3  Justification:\\n\\nThe query states that Charli...  \n",
       "4  Justification: According to the context, the n...  "
      ]
     },
     "execution_count": 3,
     "metadata": {},
     "output_type": "execute_result"
    }
   ],
   "source": [
    "results.head()"
   ]
  },
  {
   "cell_type": "code",
   "execution_count": null,
   "id": "cdf3f839",
   "metadata": {},
   "outputs": [],
   "source": []
  }
 ],
 "metadata": {
  "kernelspec": {
   "display_name": "Python [conda env:base] *",
   "language": "python",
   "name": "conda-base-py"
  },
  "language_info": {
   "codemirror_mode": {
    "name": "ipython",
    "version": 3
   },
   "file_extension": ".py",
   "mimetype": "text/x-python",
   "name": "python",
   "nbconvert_exporter": "python",
   "pygments_lexer": "ipython3",
   "version": "3.12.2"
  },
  "varInspector": {
   "cols": {
    "lenName": 16,
    "lenType": 16,
    "lenVar": 40
   },
   "kernels_config": {
    "python": {
     "delete_cmd_postfix": "",
     "delete_cmd_prefix": "del ",
     "library": "var_list.py",
     "varRefreshCmd": "print(var_dic_list())"
    },
    "r": {
     "delete_cmd_postfix": ") ",
     "delete_cmd_prefix": "rm(",
     "library": "var_list.r",
     "varRefreshCmd": "cat(var_dic_list()) "
    }
   },
   "types_to_exclude": [
    "module",
    "function",
    "builtin_function_or_method",
    "instance",
    "_Feature"
   ],
   "window_display": false
  }
 },
 "nbformat": 4,
 "nbformat_minor": 5
}
